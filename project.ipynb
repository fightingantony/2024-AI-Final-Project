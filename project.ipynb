{
 "cells": [
  {
   "cell_type": "markdown",
   "id": "5a4e972c",
   "metadata": {},
   "source": [
    "## The module we need"
   ]
  },
  {
   "cell_type": "code",
   "execution_count": 1,
   "id": "2b3336fe",
   "metadata": {},
   "outputs": [],
   "source": [
    "import pandas as pd\n",
    "import nltk\n",
    "from nltk.corpus import stopwords\n",
    "import re\n",
    "from sklearn.preprocessing import LabelEncoder\n",
    "from sklearn.model_selection import train_test_split, GridSearchCV\n",
    "from sklearn.feature_extraction.text import TfidfVectorizer\n",
    "from sklearn.metrics import accuracy_score, f1_score, roc_auc_score, classification_report, confusion_matrix, roc_curve\n",
    "from sklearn.linear_model import LogisticRegression\n",
    "from sklearn.ensemble import RandomForestClassifier, StackingClassifier\n",
    "from vaderSentiment.vaderSentiment import SentimentIntensityAnalyzer\n",
    "import numpy as np\n",
    "import matplotlib.pyplot as plt\n",
    "import seaborn as sns\n",
    "from tensorflow.keras.models import Sequential\n",
    "from tensorflow.keras.layers import Embedding, SpatialDropout1D, LSTM, Dense\n",
    "from keras_tuner.tuners import RandomSearch\n",
    "from tensorflow.keras.callbacks import TensorBoard, ProgbarLogger\n",
    "import joblib\n",
    "import nlpaug.augmenter.word as naw\n",
    "import os\n",
    "from tqdm import tqdm\n",
    "from keras_tuner.tuners import RandomSearch\n"
   ]
  },
  {
   "cell_type": "code",
   "execution_count": 2,
   "id": "a22f6837",
   "metadata": {},
   "outputs": [
    {
     "data": {
      "text/html": [
       "<div>\n",
       "<style scoped>\n",
       "    .dataframe tbody tr th:only-of-type {\n",
       "        vertical-align: middle;\n",
       "    }\n",
       "\n",
       "    .dataframe tbody tr th {\n",
       "        vertical-align: top;\n",
       "    }\n",
       "\n",
       "    .dataframe thead th {\n",
       "        text-align: right;\n",
       "    }\n",
       "</style>\n",
       "<table border=\"1\" class=\"dataframe\">\n",
       "  <thead>\n",
       "    <tr style=\"text-align: right;\">\n",
       "      <th></th>\n",
       "      <th>textID</th>\n",
       "      <th>text</th>\n",
       "      <th>selected_text</th>\n",
       "      <th>sentiment</th>\n",
       "    </tr>\n",
       "  </thead>\n",
       "  <tbody>\n",
       "    <tr>\n",
       "      <th>0</th>\n",
       "      <td>cb774db0d1</td>\n",
       "      <td>I`d have responded, if I were going</td>\n",
       "      <td>I`d have responded, if I were going</td>\n",
       "      <td>neutral</td>\n",
       "    </tr>\n",
       "    <tr>\n",
       "      <th>1</th>\n",
       "      <td>549e992a42</td>\n",
       "      <td>Sooo SAD I will miss you here in San Diego!!!</td>\n",
       "      <td>Sooo SAD</td>\n",
       "      <td>negative</td>\n",
       "    </tr>\n",
       "    <tr>\n",
       "      <th>2</th>\n",
       "      <td>088c60f138</td>\n",
       "      <td>my boss is bullying me...</td>\n",
       "      <td>bullying me</td>\n",
       "      <td>negative</td>\n",
       "    </tr>\n",
       "    <tr>\n",
       "      <th>3</th>\n",
       "      <td>9642c003ef</td>\n",
       "      <td>what interview! leave me alone</td>\n",
       "      <td>leave me alone</td>\n",
       "      <td>negative</td>\n",
       "    </tr>\n",
       "    <tr>\n",
       "      <th>4</th>\n",
       "      <td>358bd9e861</td>\n",
       "      <td>Sons of ****, why couldn`t they put them on t...</td>\n",
       "      <td>Sons of ****,</td>\n",
       "      <td>negative</td>\n",
       "    </tr>\n",
       "    <tr>\n",
       "      <th>...</th>\n",
       "      <td>...</td>\n",
       "      <td>...</td>\n",
       "      <td>...</td>\n",
       "      <td>...</td>\n",
       "    </tr>\n",
       "    <tr>\n",
       "      <th>27476</th>\n",
       "      <td>4eac33d1c0</td>\n",
       "      <td>wish we could come see u on Denver  husband l...</td>\n",
       "      <td>d lost</td>\n",
       "      <td>negative</td>\n",
       "    </tr>\n",
       "    <tr>\n",
       "      <th>27477</th>\n",
       "      <td>4f4c4fc327</td>\n",
       "      <td>I`ve wondered about rake to.  The client has ...</td>\n",
       "      <td>, don`t force</td>\n",
       "      <td>negative</td>\n",
       "    </tr>\n",
       "    <tr>\n",
       "      <th>27478</th>\n",
       "      <td>f67aae2310</td>\n",
       "      <td>Yay good for both of you. Enjoy the break - y...</td>\n",
       "      <td>Yay good for both of you.</td>\n",
       "      <td>positive</td>\n",
       "    </tr>\n",
       "    <tr>\n",
       "      <th>27479</th>\n",
       "      <td>ed167662a5</td>\n",
       "      <td>But it was worth it  ****.</td>\n",
       "      <td>But it was worth it  ****.</td>\n",
       "      <td>positive</td>\n",
       "    </tr>\n",
       "    <tr>\n",
       "      <th>27480</th>\n",
       "      <td>6f7127d9d7</td>\n",
       "      <td>All this flirting going on - The ATG smiles...</td>\n",
       "      <td>All this flirting going on - The ATG smiles. Y...</td>\n",
       "      <td>neutral</td>\n",
       "    </tr>\n",
       "  </tbody>\n",
       "</table>\n",
       "<p>27481 rows × 4 columns</p>\n",
       "</div>"
      ],
      "text/plain": [
       "           textID                                               text  \\\n",
       "0      cb774db0d1                I`d have responded, if I were going   \n",
       "1      549e992a42      Sooo SAD I will miss you here in San Diego!!!   \n",
       "2      088c60f138                          my boss is bullying me...   \n",
       "3      9642c003ef                     what interview! leave me alone   \n",
       "4      358bd9e861   Sons of ****, why couldn`t they put them on t...   \n",
       "...           ...                                                ...   \n",
       "27476  4eac33d1c0   wish we could come see u on Denver  husband l...   \n",
       "27477  4f4c4fc327   I`ve wondered about rake to.  The client has ...   \n",
       "27478  f67aae2310   Yay good for both of you. Enjoy the break - y...   \n",
       "27479  ed167662a5                         But it was worth it  ****.   \n",
       "27480  6f7127d9d7     All this flirting going on - The ATG smiles...   \n",
       "\n",
       "                                           selected_text sentiment  \n",
       "0                    I`d have responded, if I were going   neutral  \n",
       "1                                               Sooo SAD  negative  \n",
       "2                                            bullying me  negative  \n",
       "3                                         leave me alone  negative  \n",
       "4                                          Sons of ****,  negative  \n",
       "...                                                  ...       ...  \n",
       "27476                                             d lost  negative  \n",
       "27477                                      , don`t force  negative  \n",
       "27478                          Yay good for both of you.  positive  \n",
       "27479                         But it was worth it  ****.  positive  \n",
       "27480  All this flirting going on - The ATG smiles. Y...   neutral  \n",
       "\n",
       "[27481 rows x 4 columns]"
      ]
     },
     "execution_count": 2,
     "metadata": {},
     "output_type": "execute_result"
    }
   ],
   "source": [
    "tweet = pd.read_csv(\"Tweets.csv\")\n",
    "tweet"
   ]
  },
  {
   "cell_type": "markdown",
   "id": "efc956eb",
   "metadata": {},
   "source": [
    "## Data Preprocessing"
   ]
  },
  {
   "cell_type": "markdown",
   "id": "198fd243",
   "metadata": {},
   "source": [
    "##### Removing Unnecessary Columns from Tweet Data and Checking DataFrame Dimensions"
   ]
  },
  {
   "cell_type": "code",
   "execution_count": 3,
   "id": "aeaf0661",
   "metadata": {},
   "outputs": [
    {
     "data": {
      "text/plain": [
       "(27481, 2)"
      ]
     },
     "execution_count": 3,
     "metadata": {},
     "output_type": "execute_result"
    }
   ],
   "source": [
    "tweet = tweet.drop(columns=['textID', \"text\"], axis=1)\n",
    "tweet.shape"
   ]
  },
  {
   "cell_type": "markdown",
   "id": "43d6d0f2",
   "metadata": {},
   "source": [
    "##### Removing Rows with Missing Values from Tweet Data and Checking DataFrame Dimensions"
   ]
  },
  {
   "cell_type": "code",
   "execution_count": 4,
   "id": "db8f199f",
   "metadata": {},
   "outputs": [
    {
     "data": {
      "text/plain": [
       "(27480, 2)"
      ]
     },
     "execution_count": 4,
     "metadata": {},
     "output_type": "execute_result"
    }
   ],
   "source": [
    "tweet = tweet.dropna()\n",
    "tweet.shape"
   ]
  },
  {
   "cell_type": "markdown",
   "id": "23514de5",
   "metadata": {},
   "source": [
    "##### Filtering Tweets by Sentiment in Pandas DataFrame"
   ]
  },
  {
   "cell_type": "code",
   "execution_count": 5,
   "id": "f01ef14b",
   "metadata": {},
   "outputs": [
    {
     "data": {
      "text/html": [
       "<div>\n",
       "<style scoped>\n",
       "    .dataframe tbody tr th:only-of-type {\n",
       "        vertical-align: middle;\n",
       "    }\n",
       "\n",
       "    .dataframe tbody tr th {\n",
       "        vertical-align: top;\n",
       "    }\n",
       "\n",
       "    .dataframe thead th {\n",
       "        text-align: right;\n",
       "    }\n",
       "</style>\n",
       "<table border=\"1\" class=\"dataframe\">\n",
       "  <thead>\n",
       "    <tr style=\"text-align: right;\">\n",
       "      <th></th>\n",
       "      <th>selected_text</th>\n",
       "      <th>sentiment</th>\n",
       "    </tr>\n",
       "  </thead>\n",
       "  <tbody>\n",
       "    <tr>\n",
       "      <th>1</th>\n",
       "      <td>Sooo SAD</td>\n",
       "      <td>negative</td>\n",
       "    </tr>\n",
       "    <tr>\n",
       "      <th>2</th>\n",
       "      <td>bullying me</td>\n",
       "      <td>negative</td>\n",
       "    </tr>\n",
       "    <tr>\n",
       "      <th>3</th>\n",
       "      <td>leave me alone</td>\n",
       "      <td>negative</td>\n",
       "    </tr>\n",
       "    <tr>\n",
       "      <th>4</th>\n",
       "      <td>Sons of ****,</td>\n",
       "      <td>negative</td>\n",
       "    </tr>\n",
       "    <tr>\n",
       "      <th>6</th>\n",
       "      <td>fun</td>\n",
       "      <td>positive</td>\n",
       "    </tr>\n",
       "    <tr>\n",
       "      <th>...</th>\n",
       "      <td>...</td>\n",
       "      <td>...</td>\n",
       "    </tr>\n",
       "    <tr>\n",
       "      <th>27475</th>\n",
       "      <td>enjoy</td>\n",
       "      <td>positive</td>\n",
       "    </tr>\n",
       "    <tr>\n",
       "      <th>27476</th>\n",
       "      <td>d lost</td>\n",
       "      <td>negative</td>\n",
       "    </tr>\n",
       "    <tr>\n",
       "      <th>27477</th>\n",
       "      <td>, don`t force</td>\n",
       "      <td>negative</td>\n",
       "    </tr>\n",
       "    <tr>\n",
       "      <th>27478</th>\n",
       "      <td>Yay good for both of you.</td>\n",
       "      <td>positive</td>\n",
       "    </tr>\n",
       "    <tr>\n",
       "      <th>27479</th>\n",
       "      <td>But it was worth it  ****.</td>\n",
       "      <td>positive</td>\n",
       "    </tr>\n",
       "  </tbody>\n",
       "</table>\n",
       "<p>16363 rows × 2 columns</p>\n",
       "</div>"
      ],
      "text/plain": [
       "                    selected_text sentiment\n",
       "1                        Sooo SAD  negative\n",
       "2                     bullying me  negative\n",
       "3                  leave me alone  negative\n",
       "4                   Sons of ****,  negative\n",
       "6                             fun  positive\n",
       "...                           ...       ...\n",
       "27475                       enjoy  positive\n",
       "27476                      d lost  negative\n",
       "27477               , don`t force  negative\n",
       "27478   Yay good for both of you.  positive\n",
       "27479  But it was worth it  ****.  positive\n",
       "\n",
       "[16363 rows x 2 columns]"
      ]
     },
     "execution_count": 5,
     "metadata": {},
     "output_type": "execute_result"
    }
   ],
   "source": [
    "tweet = tweet.loc[(tweet['sentiment'] == 'positive') | (tweet['sentiment'] == 'negative')]\n",
    "tweet"
   ]
  },
  {
   "cell_type": "markdown",
   "id": "0d1af52f",
   "metadata": {},
   "source": [
    "##### Converting Sentiment Labels to Numeric Values in Tweet Data"
   ]
  },
  {
   "cell_type": "code",
   "execution_count": 6,
   "id": "f1cd874d",
   "metadata": {},
   "outputs": [
    {
     "name": "stderr",
     "output_type": "stream",
     "text": [
      "C:\\Users\\choan\\AppData\\Local\\Temp\\ipykernel_20996\\1420758113.py:1: FutureWarning: Downcasting behavior in `replace` is deprecated and will be removed in a future version. To retain the old behavior, explicitly call `result.infer_objects(copy=False)`. To opt-in to the future behavior, set `pd.set_option('future.no_silent_downcasting', True)`\n",
      "  tweet.replace({'sentiment': {'negative': 0, 'positive': 1}}, inplace=True)\n"
     ]
    },
    {
     "data": {
      "text/html": [
       "<div>\n",
       "<style scoped>\n",
       "    .dataframe tbody tr th:only-of-type {\n",
       "        vertical-align: middle;\n",
       "    }\n",
       "\n",
       "    .dataframe tbody tr th {\n",
       "        vertical-align: top;\n",
       "    }\n",
       "\n",
       "    .dataframe thead th {\n",
       "        text-align: right;\n",
       "    }\n",
       "</style>\n",
       "<table border=\"1\" class=\"dataframe\">\n",
       "  <thead>\n",
       "    <tr style=\"text-align: right;\">\n",
       "      <th></th>\n",
       "      <th>selected_text</th>\n",
       "      <th>sentiment</th>\n",
       "    </tr>\n",
       "  </thead>\n",
       "  <tbody>\n",
       "    <tr>\n",
       "      <th>1</th>\n",
       "      <td>Sooo SAD</td>\n",
       "      <td>0</td>\n",
       "    </tr>\n",
       "    <tr>\n",
       "      <th>2</th>\n",
       "      <td>bullying me</td>\n",
       "      <td>0</td>\n",
       "    </tr>\n",
       "    <tr>\n",
       "      <th>3</th>\n",
       "      <td>leave me alone</td>\n",
       "      <td>0</td>\n",
       "    </tr>\n",
       "    <tr>\n",
       "      <th>4</th>\n",
       "      <td>Sons of ****,</td>\n",
       "      <td>0</td>\n",
       "    </tr>\n",
       "    <tr>\n",
       "      <th>6</th>\n",
       "      <td>fun</td>\n",
       "      <td>1</td>\n",
       "    </tr>\n",
       "    <tr>\n",
       "      <th>...</th>\n",
       "      <td>...</td>\n",
       "      <td>...</td>\n",
       "    </tr>\n",
       "    <tr>\n",
       "      <th>27475</th>\n",
       "      <td>enjoy</td>\n",
       "      <td>1</td>\n",
       "    </tr>\n",
       "    <tr>\n",
       "      <th>27476</th>\n",
       "      <td>d lost</td>\n",
       "      <td>0</td>\n",
       "    </tr>\n",
       "    <tr>\n",
       "      <th>27477</th>\n",
       "      <td>, don`t force</td>\n",
       "      <td>0</td>\n",
       "    </tr>\n",
       "    <tr>\n",
       "      <th>27478</th>\n",
       "      <td>Yay good for both of you.</td>\n",
       "      <td>1</td>\n",
       "    </tr>\n",
       "    <tr>\n",
       "      <th>27479</th>\n",
       "      <td>But it was worth it  ****.</td>\n",
       "      <td>1</td>\n",
       "    </tr>\n",
       "  </tbody>\n",
       "</table>\n",
       "<p>16363 rows × 2 columns</p>\n",
       "</div>"
      ],
      "text/plain": [
       "                    selected_text  sentiment\n",
       "1                        Sooo SAD          0\n",
       "2                     bullying me          0\n",
       "3                  leave me alone          0\n",
       "4                   Sons of ****,          0\n",
       "6                             fun          1\n",
       "...                           ...        ...\n",
       "27475                       enjoy          1\n",
       "27476                      d lost          0\n",
       "27477               , don`t force          0\n",
       "27478   Yay good for both of you.          1\n",
       "27479  But it was worth it  ****.          1\n",
       "\n",
       "[16363 rows x 2 columns]"
      ]
     },
     "execution_count": 6,
     "metadata": {},
     "output_type": "execute_result"
    }
   ],
   "source": [
    "tweet.replace({'sentiment': {'negative': 0, 'positive': 1}}, inplace=True)\n",
    "tweet\n"
   ]
  },
  {
   "cell_type": "markdown",
   "id": "8845ed58",
   "metadata": {},
   "source": [
    "##### Converting Selected Text to Lowercase and Preparing NLTK Wordnet"
   ]
  },
  {
   "cell_type": "code",
   "execution_count": 7,
   "id": "79eb889a",
   "metadata": {},
   "outputs": [
    {
     "name": "stderr",
     "output_type": "stream",
     "text": [
      "[nltk_data] Downloading package wordnet to\n",
      "[nltk_data]     C:\\Users\\choan\\AppData\\Roaming\\nltk_data...\n",
      "[nltk_data]   Package wordnet is already up-to-date!\n"
     ]
    },
    {
     "data": {
      "text/plain": [
       "True"
      ]
     },
     "execution_count": 7,
     "metadata": {},
     "output_type": "execute_result"
    }
   ],
   "source": [
    "tweet['selected_text'] = tweet['selected_text'].str.lower()\n",
    "nltk.download('wordnet')"
   ]
  },
  {
   "cell_type": "markdown",
   "id": "63e6e1e8",
   "metadata": {},
   "source": [
    "## Data Augmentation for Tweet Sentiment Analysis"
   ]
  },
  {
   "cell_type": "code",
   "execution_count": 8,
   "id": "55b0eafa",
   "metadata": {},
   "outputs": [
    {
     "name": "stdout",
     "output_type": "stream",
     "text": [
      "Augmenting data...\n"
     ]
    },
    {
     "name": "stderr",
     "output_type": "stream",
     "text": [
      "100%|██████████| 1636/1636 [00:03<00:00, 499.28it/s]\n"
     ]
    },
    {
     "name": "stdout",
     "output_type": "stream",
     "text": [
      "        selected_text  sentiment\n",
      "0            sooo sad          0\n",
      "1         bullying me          0\n",
      "2      leave me alone          0\n",
      "3       sons of ****,          0\n",
      "4                 fun          1\n",
      "...               ...        ...\n",
      "19630            [..]          0\n",
      "19631    [thank you!]          1\n",
      "19632          [you!]          1\n",
      "19633          [fag!]          0\n",
      "19634             [!]          0\n",
      "\n",
      "[19635 rows x 2 columns]\n"
     ]
    },
    {
     "data": {
      "text/plain": [
       "['preprocessed_augmented_tweet.pkl']"
      ]
     },
     "execution_count": 8,
     "metadata": {},
     "output_type": "execute_result"
    }
   ],
   "source": [
    "# Initialize augmenters\n",
    "syn_aug = naw.SynonymAug(aug_src='wordnet')\n",
    "del_aug = naw.RandomWordAug(action=\"delete\")\n",
    "swap_aug = naw.RandomWordAug(action=\"swap\")\n",
    "\n",
    "augmented_dfs = []\n",
    "\n",
    "# Reduce the number of augmentations to save memory\n",
    "print(\"Augmenting data...\")\n",
    "for i in tqdm(range(int(tweet.shape[0] * 0.1))):  # Only augment 10% of the data\n",
    "    original_text = tweet['selected_text'].iloc[i]\n",
    "    # Apply different augmentations\n",
    "    augmented_texts = [syn_aug.augment(original_text), del_aug.augment(original_text)]\n",
    "    for augmented_text in augmented_texts:\n",
    "        augmented_df = pd.DataFrame({'selected_text': [augmented_text], 'sentiment': tweet['sentiment'].iloc[i]})\n",
    "        augmented_dfs.append(augmented_df)\n",
    "\n",
    "# Concatenate the original DataFrame with the augmented dataframes\n",
    "tweet = pd.concat([tweet] + augmented_dfs, ignore_index=True)\n",
    "print(tweet)\n",
    "joblib.dump(tweet, 'preprocessed_augmented_tweet.pkl')\n"
   ]
  },
  {
   "cell_type": "markdown",
   "id": "19fb96e9",
   "metadata": {},
   "source": [
    "## Text Preprocessing and Feature Extraction for Tweet Sentiment Analysis"
   ]
  },
  {
   "cell_type": "code",
   "execution_count": 9,
   "id": "bd4569cc",
   "metadata": {},
   "outputs": [
    {
     "name": "stderr",
     "output_type": "stream",
     "text": [
      "[nltk_data] Downloading package stopwords to\n",
      "[nltk_data]     C:\\Users\\choan\\AppData\\Roaming\\nltk_data...\n",
      "[nltk_data]   Package stopwords is already up-to-date!\n"
     ]
    },
    {
     "name": "stdout",
     "output_type": "stream",
     "text": [
      "Cleaning tweets...\n",
      "Extracting TF-IDF features...\n",
      "TfidfVectorizer saved as 'tfidf_vectorizer.pkl'\n",
      "Extracting sentiment features...\n"
     ]
    },
    {
     "name": "stderr",
     "output_type": "stream",
     "text": [
      "100%|██████████| 19635/19635 [00:00<00:00, 55051.71it/s]\n"
     ]
    },
    {
     "data": {
      "text/plain": [
       "['features_labels.pkl']"
      ]
     },
     "execution_count": 9,
     "metadata": {},
     "output_type": "execute_result"
    }
   ],
   "source": [
    "import re\n",
    "from sklearn.feature_extraction.text import TfidfVectorizer\n",
    "from vaderSentiment.vaderSentiment import SentimentIntensityAnalyzer\n",
    "import numpy as np\n",
    "from tqdm import tqdm\n",
    "import joblib\n",
    "import nltk\n",
    "\n",
    "# Step 2: Load preprocessed and augmented data\n",
    "tweet = joblib.load('preprocessed_augmented_tweet.pkl')\n",
    "\n",
    "# Download stopwords if not already available\n",
    "nltk.download('stopwords')\n",
    "\n",
    "# Define regex for cleaning text\n",
    "text_cleaning_regex = \"@\\S+|https?:\\S+|http?:\\S|[^A-Za-z0-9]+\"\n",
    "\n",
    "# Define stop words\n",
    "stop_words = set(nltk.corpus.stopwords.words('english'))\n",
    "\n",
    "# Define function to clean tweets\n",
    "def clean_tweets(text, stem=False):\n",
    "    text = re.sub(text_cleaning_regex, ' ', str(text).lower()).strip()\n",
    "    tokens = [token for token in text.split() if token not in stop_words]\n",
    "    return \" \".join(tokens)\n",
    "\n",
    "# Apply cleaning function to the DataFrame\n",
    "print(\"Cleaning tweets...\")\n",
    "tweet['selected_text'] = tweet['selected_text'].apply(lambda x: clean_tweets(x))\n",
    "\n",
    "# Extract TF-IDF features\n",
    "print(\"Extracting TF-IDF features...\")\n",
    "tfidf_vectorizer = TfidfVectorizer(max_features=1000)  # Reduce max features to save memory\n",
    "tfidf_features = tfidf_vectorizer.fit_transform(tweet['selected_text']).toarray()\n",
    "\n",
    "# Save the TfidfVectorizer\n",
    "joblib.dump(tfidf_vectorizer, 'tfidf_vectorizer.pkl')\n",
    "print(\"TfidfVectorizer saved as 'tfidf_vectorizer.pkl'\")\n",
    "\n",
    "# Extract Sentiment features using VADER\n",
    "analyzer = SentimentIntensityAnalyzer()\n",
    "def extract_sentiment_features(text):\n",
    "    sentiment_scores = analyzer.polarity_scores(text)\n",
    "    return [sentiment_scores['neg'], sentiment_scores['neu'], sentiment_scores['pos'], sentiment_scores['compound']]\n",
    "\n",
    "print(\"Extracting sentiment features...\")\n",
    "sentiment_features = np.array([extract_sentiment_features(text) for text in tqdm(tweet['selected_text'])])\n",
    "\n",
    "# Combine features into a single DataFrame\n",
    "combined_features = np.hstack([tfidf_features, sentiment_features])\n",
    "\n",
    "# Save features and labels\n",
    "joblib.dump((combined_features, tweet['sentiment']), 'features_labels.pkl')\n"
   ]
  },
  {
   "cell_type": "markdown",
   "id": "af0a338a",
   "metadata": {},
   "source": [
    "#### Splitting Data into Train and Test Sets for Sentiment Analysis Model"
   ]
  },
  {
   "cell_type": "code",
   "execution_count": 10,
   "id": "135a8b83",
   "metadata": {},
   "outputs": [
    {
     "name": "stdout",
     "output_type": "stream",
     "text": [
      "Splitting data into train and test sets...\n",
      "Train Data size: 15708\n",
      "Test Data size: 3927\n"
     ]
    },
    {
     "data": {
      "text/plain": [
       "['split_data.pkl']"
      ]
     },
     "execution_count": 10,
     "metadata": {},
     "output_type": "execute_result"
    }
   ],
   "source": [
    "import joblib\n",
    "from sklearn.model_selection import train_test_split\n",
    "\n",
    "# Step 3: Load features and labels\n",
    "combined_features, sentiment = joblib.load('features_labels.pkl')\n",
    "\n",
    "# Split the data into train and test sets\n",
    "print(\"Splitting data into train and test sets...\")\n",
    "X_train, X_test, y_train, y_test = train_test_split(combined_features, sentiment, test_size=0.2, random_state=16)\n",
    "\n",
    "print(\"Train Data size:\", len(X_train))\n",
    "print(\"Test Data size:\", len(X_test))\n",
    "\n",
    "# Save the split data\n",
    "joblib.dump((X_train, X_test, y_train, y_test), 'split_data.pkl')\n"
   ]
  },
  {
   "cell_type": "markdown",
   "id": "028ee2cc",
   "metadata": {},
   "source": [
    "## Building and Tuning a Stacking Ensemble Model for Sentiment Analysis"
   ]
  },
  {
   "cell_type": "code",
   "execution_count": 11,
   "id": "c5fcb995",
   "metadata": {},
   "outputs": [
    {
     "name": "stdout",
     "output_type": "stream",
     "text": [
      "Performing Grid Search...\n",
      "Fitting 3 folds for each of 18 candidates, totalling 54 fits\n",
      "Best parameters found:  {'lr__C': 10.0, 'rf__max_depth': None, 'rf__n_estimators': 50}\n",
      "File 'trained_stacking_model.pkl' saved successfully!\n"
     ]
    }
   ],
   "source": [
    "import joblib\n",
    "import os\n",
    "from sklearn.linear_model import LogisticRegression\n",
    "from sklearn.ensemble import RandomForestClassifier, StackingClassifier\n",
    "from sklearn.model_selection import GridSearchCV\n",
    "\n",
    "# Step 4: Load split data\n",
    "X_train, X_test, y_train, y_test = joblib.load('split_data.pkl')\n",
    "\n",
    "# Define base models for stacking\n",
    "base_models = [\n",
    "    ('lr', LogisticRegression(solver='liblinear', max_iter=1000)),\n",
    "    ('rf', RandomForestClassifier())\n",
    "]\n",
    "\n",
    "# Define the stacking ensemble model\n",
    "stacking_model = StackingClassifier(estimators=base_models, final_estimator=LogisticRegression())\n",
    "\n",
    "# Define parameter grid for GridSearch\n",
    "param_grid = {\n",
    "    'lr__C': [0.1, 1.0, 10.0],\n",
    "    'rf__n_estimators': [50, 100],\n",
    "    'rf__max_depth': [None, 10, 20]\n",
    "}\n",
    "\n",
    "# Perform Grid Search with Cross Validation\n",
    "print(\"Performing Grid Search...\")\n",
    "grid_search = GridSearchCV(estimator=stacking_model, param_grid=param_grid, cv=3, n_jobs=-1, verbose=2)\n",
    "grid_search.fit(X_train, y_train)\n",
    "\n",
    "# Best model after Grid Search\n",
    "best_model = grid_search.best_estimator_\n",
    "print(\"Best parameters found: \", grid_search.best_params_)\n",
    "\n",
    "# Save the best model\n",
    "model_filename = 'trained_stacking_model.pkl'\n",
    "joblib.dump(best_model, model_filename)\n",
    "\n",
    "# Verify if the file exists\n",
    "if os.path.exists(model_filename):\n",
    "    print(f\"File '{model_filename}' saved successfully!\")\n",
    "else:\n",
    "    print(f\"Error in saving the model '{model_filename}'!\")\n"
   ]
  },
  {
   "cell_type": "markdown",
   "id": "f3b18fca",
   "metadata": {},
   "source": [
    "## Model Evaluation and Performance Visualization for Sentiment Analysis"
   ]
  },
  {
   "cell_type": "code",
   "execution_count": 12,
   "id": "c1f7d807",
   "metadata": {},
   "outputs": [
    {
     "name": "stdout",
     "output_type": "stream",
     "text": [
      "Evaluating the model...\n",
      "Test Loss: 0.891266\n",
      "Test Accuracy: 0.891266\n",
      "Accuracy Score: 0.8913\n",
      "F1 Score: 0.8915\n",
      "ROC AUC Score: 0.9600\n",
      "Classification Report:\n",
      "               precision    recall  f1-score   support\n",
      "\n",
      "           0       0.86      0.93      0.89      1879\n",
      "           1       0.93      0.86      0.89      2048\n",
      "\n",
      "    accuracy                           0.89      3927\n",
      "   macro avg       0.89      0.89      0.89      3927\n",
      "weighted avg       0.89      0.89      0.89      3927\n",
      "\n"
     ]
    },
    {
     "data": {
      "image/png": "[encoded data removed]",
      "text/plain": [
       "<Figure size 800x600 with 2 Axes>"
      ]
     },
     "metadata": {},
     "output_type": "display_data"
    },
    {
     "data": {
      "image/png": "[encoded data removed]",
      "text/plain": [
       "<Figure size 800x600 with 1 Axes>"
      ]
     },
     "metadata": {},
     "output_type": "display_data"
    }
   ],
   "source": [
    "\n",
    "# Step 5: Load best model and split data\n",
    "model_filename = 'trained_stacking_model.pkl'\n",
    "best_model = joblib.load(model_filename)\n",
    "\n",
    "# Evaluate the model\n",
    "print(\"Evaluating the model...\")\n",
    "test_loss = best_model.score(X_test, y_test)\n",
    "test_accuracy = accuracy_score(y_test, best_model.predict(X_test))\n",
    "\n",
    "print(\"Test Loss: {:.6f}\".format(test_loss))\n",
    "print(\"Test Accuracy: {:.6f}\".format(test_accuracy))\n",
    "\n",
    "# Predictions\n",
    "y_pred_prob = best_model.predict_proba(X_test)[:, 1]\n",
    "y_pred = (y_pred_prob > 0.5).astype(int)\n",
    "\n",
    "# Calculate different evaluation metrics\n",
    "print(\"Accuracy Score: {:.4f}\".format(accuracy_score(y_test, y_pred)))\n",
    "print(\"F1 Score: {:.4f}\".format(f1_score(y_test, y_pred)))\n",
    "print(\"ROC AUC Score: {:.4f}\".format(roc_auc_score(y_test, y_pred_prob)))\n",
    "print(\"Classification Report:\\n\", classification_report(y_test, y_pred))\n",
    "\n",
    "# Confusion Matrix\n",
    "cm = confusion_matrix(y_test, y_pred)\n",
    "plt.figure(figsize=(8, 6))\n",
    "sns.heatmap(cm, annot=True, fmt=\"d\", cmap=\"Blues\", xticklabels=[\"Negative\", \"Positive\"], yticklabels=[\"Negative\", \"Positive\"])\n",
    "plt.ylabel('Actual')\n",
    "plt.xlabel('Predicted')\n",
    "plt.title('Confusion Matrix')\n",
    "plt.show()\n",
    "\n",
    "# ROC Curve\n",
    "fpr, tpr, _ = roc_curve(y_test, y_pred_prob)\n",
    "plt.figure(figsize=(8, 6))\n",
    "plt.plot(fpr, tpr, label='ROC Curve (area = {:.4f})'.format(roc_auc_score(y_test, y_pred_prob)))\n",
    "plt.plot([0, 1], [0, 1], 'k--')\n",
    "plt.xlabel('False Positive Rate')\n",
    "plt.ylabel('True Positive Rate')\n",
    "plt.title('Receiver Operating Characteristic (ROC) Curve')\n",
    "plt.legend(loc=\"lower right\")\n",
    "plt.show()\n",
    "\n",
    "import os\n"
   ]
  },
  {
   "cell_type": "markdown",
   "id": "bfb6740a",
   "metadata": {},
   "source": [
    "## Utilizing Trained Model for Sentiment Prediction"
   ]
  },
  {
   "cell_type": "code",
   "execution_count": 13,
   "id": "68597600",
   "metadata": {},
   "outputs": [
    {
     "name": "stdout",
     "output_type": "stream",
     "text": [
      "File 'trained_stacking_model.pkl' exists. Proceeding to load the model.\n",
      "File 'tfidf_vectorizer.pkl' exists. Proceeding to load the TfidfVectorizer.\n",
      "Phrase: bad\n",
      "Predicted Sentiment: negative\n",
      "Confidence Score: 0.9432122775113961\n"
     ]
    }
   ],
   "source": [
    "\n",
    "# Step 6: Verify if the file exists before loading\n",
    "model_filename = 'trained_stacking_model.pkl'\n",
    "if os.path.exists(model_filename):\n",
    "    print(f\"File '{model_filename}' exists. Proceeding to load the model.\")\n",
    "else:\n",
    "    print(f\"File '{model_filename}' does not exist. Cannot load the model.\")\n",
    "    raise FileNotFoundError(f\"File '{model_filename}' not found.\")\n",
    "\n",
    "# Load the model\n",
    "best_model = joblib.load(model_filename)\n",
    "\n",
    "# Load other necessary objects\n",
    "tfidf_vectorizer_filename = 'tfidf_vectorizer.pkl'\n",
    "if os.path.exists(tfidf_vectorizer_filename):\n",
    "    print(f\"File '{tfidf_vectorizer_filename}' exists. Proceeding to load the TfidfVectorizer.\")\n",
    "else:\n",
    "    print(f\"File '{tfidf_vectorizer_filename}' does not exist. Cannot load the TfidfVectorizer.\")\n",
    "    raise FileNotFoundError(f\"File '{tfidf_vectorizer_filename}' not found.\")\n",
    "\n",
    "tfidf_vectorizer = joblib.load(tfidf_vectorizer_filename)\n",
    "sentiment_analyzer = SentimentIntensityAnalyzer()\n",
    "\n",
    "def extract_sentiment_features(text):\n",
    "    sentiment_scores = sentiment_analyzer.polarity_scores(text)\n",
    "    return [sentiment_scores['neg'], sentiment_scores['neu'], sentiment_scores['pos'], sentiment_scores['compound']]\n",
    "\n",
    "def predict_sentiment(model, phrase, bound=0.9):\n",
    "    tfidf_phrase = tfidf_vectorizer.transform([phrase]).toarray()\n",
    "    sentiment_phrase = np.array([extract_sentiment_features(phrase)])\n",
    "    combined_phrase_features = np.hstack([tfidf_phrase, sentiment_phrase])\n",
    "    \n",
    "    # Use predict_proba to get the probability scores\n",
    "    prediction_prob = model.predict_proba(combined_phrase_features)\n",
    "    prediction = model.predict(combined_phrase_features)\n",
    "    \n",
    "    sentiment_label = 'neutral'\n",
    "    if prediction[0] == 1 and prediction_prob[0][1] >= bound:\n",
    "        sentiment_label = 'positive'\n",
    "    elif prediction[0] == 0 and prediction_prob[0][0] >= bound:\n",
    "        sentiment_label = 'negative'\n",
    "\n",
    "    return sentiment_label, prediction_prob\n",
    "\n",
    "phrase_to_predict = \"bad\"\n",
    "label, score = predict_sentiment(best_model, phrase_to_predict)\n",
    "\n",
    "print(f\"Phrase: {phrase_to_predict}\")\n",
    "print(f\"Predicted Sentiment: {label}\")\n",
    "print(f\"Confidence Score: {score[0][1] if label == 'positive' else score[0][0]}\")\n"
   ]
  }
 ],
 "metadata": {
  "kernelspec": {
   "display_name": "Python 3 (ipykernel)",
   "language": "python",
   "name": "python3"
  },
  "language_info": {
   "codemirror_mode": {
    "name": "ipython",
    "version": 3
   },
   "file_extension": ".py",
   "mimetype": "text/x-python",
   "name": "python",
   "nbconvert_exporter": "python",
   "pygments_lexer": "ipython3",
   "version": "3.11.7"
  }
 },
 "nbformat": 4,
 "nbformat_minor": 5
}
